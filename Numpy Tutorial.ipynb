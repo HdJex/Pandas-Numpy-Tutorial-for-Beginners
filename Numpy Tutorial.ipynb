{
 "cells": [
  {
   "cell_type": "markdown",
   "id": "fe8d8371-fd07-43d4-ba88-8b6124cea0b7",
   "metadata": {},
   "source": [
    "# Numpy Tutorial with all main functions"
   ]
  },
  {
   "cell_type": "code",
   "execution_count": 1,
   "id": "d8c50223-80ef-4bac-91ef-dc53f4a38067",
   "metadata": {},
   "outputs": [],
   "source": [
    "import numpy as np  # inmporting numpy "
   ]
  },
  {
   "cell_type": "code",
   "execution_count": 20,
   "id": "9d14d81b-e808-436e-948d-73fd1d40d827",
   "metadata": {},
   "outputs": [
    {
     "name": "stdout",
     "output_type": "stream",
     "text": [
      "[10 20 40 90 60 55]\n",
      "[50 60 70 25 55 67]\n",
      "[ 60  80 110 115 115 122]\n",
      "<class 'numpy.ndarray'>\n"
     ]
    }
   ],
   "source": [
    "# creating basic arrays\n",
    "\n",
    "a = np.array([10,20,40,90,60,55])\n",
    "b = np.array([50,60,70,25,55,67])\n",
    "\n",
    "print(a)\n",
    "print(b)\n",
    "print(a+b) # array addition add the values of the array.\n",
    "print(type(a))"
   ]
  },
  {
   "cell_type": "code",
   "execution_count": 21,
   "id": "f29a3766-12ff-440f-831c-4b31f1409944",
   "metadata": {},
   "outputs": [
    {
     "name": "stdout",
     "output_type": "stream",
     "text": [
      "[10 20]\n",
      "[50 60 70]\n"
     ]
    }
   ],
   "source": [
    "# slicing in arrays\n",
    "\n",
    "print(a[0:2])\n",
    "print(b[:3])\n",
    "\n"
   ]
  },
  {
   "cell_type": "code",
   "execution_count": 31,
   "id": "62debbbe-3b8c-4573-8938-e2dc33b8cf8c",
   "metadata": {},
   "outputs": [
    {
     "name": "stdout",
     "output_type": "stream",
     "text": [
      "(6,)\n",
      "6\n",
      "6\n",
      "int32\n",
      "['10' '20' '40' '90' '60' '55']\n",
      "[10 20 40 55 60 90]\n"
     ]
    }
   ],
   "source": [
    "# inspecting an array\n",
    "print(a.shape)\n",
    "print(a.size)\n",
    "print(len(a))\n",
    "print(a.dtype)  \n",
    "print(a.astype(str))  # converting type of array\n",
    "x = np.sort(a)  # sorting array\n",
    "print(x)\n"
   ]
  },
  {
   "cell_type": "code",
   "execution_count": 35,
   "id": "ce4e152f-1728-4e40-b60d-682ce96f9e59",
   "metadata": {},
   "outputs": [
    {
     "name": "stdout",
     "output_type": "stream",
     "text": [
      "[-40 -40 -30  65   5 -12]\n",
      "[ 500 1200 2800 2250 3300 3685]\n",
      "[        0         0         0 436207616         0 670019559]\n"
     ]
    }
   ],
   "source": [
    "# functions in array\n",
    "c= a-b        # subtraction  \n",
    "print(c)\n",
    "c = a*b       # multiplication\n",
    "print(c)\n",
    "print(np.power(a,b))"
   ]
  },
  {
   "cell_type": "code",
   "execution_count": 38,
   "id": "247c556e-e5d3-4ab2-af6b-b2c715d85f90",
   "metadata": {},
   "outputs": [
    {
     "name": "stdout",
     "output_type": "stream",
     "text": [
      "[10 20 40 90 60 55 50 60 70 25 55 67]\n",
      "[array([10, 20]), array([40, 90]), array([60, 55])]\n"
     ]
    }
   ],
   "source": [
    "# combining and spliting array\n",
    "\n",
    "print(np.concatenate([a,b]))  # join two arrays  you can use hstack , vstack\n",
    "\n",
    "print(np.array_split(a,3))   # splitting the array in 2 parts"
   ]
  },
  {
   "cell_type": "code",
   "execution_count": 51,
   "id": "ced5814f-5006-4e7e-af40-54a951b79078",
   "metadata": {},
   "outputs": [
    {
     "name": "stdout",
     "output_type": "stream",
     "text": [
      "[10 20 40 90 60 55 80]\n",
      "[50 40 60 70 25 55 67]\n",
      "[10 40 90 60 55]\n",
      "[50 70 25 55 67]\n"
     ]
    }
   ],
   "source": [
    "# adding and removing array \n",
    "\n",
    "print(np.append(a,80))  # append add element at last\n",
    "print(np.insert(b,1,40))  # insert add element at an index\n",
    "print(np.delete(a,1))    # deletes the no at a specified index \n",
    "print(np.delete(b,1))"
   ]
  },
  {
   "cell_type": "code",
   "execution_count": 58,
   "id": "235bf75e-b90a-46da-b65a-cb9046869322",
   "metadata": {},
   "outputs": [
    {
     "name": "stdout",
     "output_type": "stream",
     "text": [
      "[10 20 40 55 60 90]\n",
      "(array([5], dtype=int64),)\n",
      "[10 20 40 90 60 55]\n",
      "[10 30 50]\n"
     ]
    }
   ],
   "source": [
    "# sort filter and search\n",
    "\n",
    "print(np.sort(a))   # sort the array\n",
    "\n",
    "s= np.where(a == 55)  # search the array \n",
    "print(s)\n",
    "print(a)\n",
    "\n",
    "\n",
    "\n",
    "s = np.array([10, 20, 30, 40, 50, 60])                     # filter the arrays    \n",
    "fa = np.array([True, False, True, False, True, False])\n",
    "new = s[fa]\n",
    "print(new)\n"
   ]
  },
  {
   "cell_type": "code",
   "execution_count": 63,
   "id": "72a218d5-fccb-4f31-a66e-6f696bb20b2c",
   "metadata": {},
   "outputs": [
    {
     "name": "stdout",
     "output_type": "stream",
     "text": [
      "275\n",
      "90\n",
      "10\n",
      "45.833333333333336\n",
      "[ 10  30  70 160 220 275]\n"
     ]
    }
   ],
   "source": [
    "# aggregating functions in numpy\n",
    "\n",
    "print(np.sum(a))   # find the sum\n",
    "print(np.max(a))   # find the max no\n",
    "print(np.min(a))   # find the min no\n",
    "print(np.mean(a))  # find the mean\n",
    "print(np.cumsum(a)) # find the cumulative sum"
   ]
  },
  {
   "cell_type": "code",
   "execution_count": 79,
   "id": "09cc3379-b1e2-47d2-989c-5c3fb1f861af",
   "metadata": {},
   "outputs": [
    {
     "name": "stdout",
     "output_type": "stream",
     "text": [
      "[[200 200 250 220 245 280 230]]\n",
      "232.14285714285714\n",
      "230.0\n",
      "200\n",
      "26.70702727977131\n",
      "713.265306122449\n",
      "[[ 1.         -0.53113304]\n",
      " [-0.53113304  1.        ]]\n"
     ]
    }
   ],
   "source": [
    "# statistical function on array\n",
    "import statistics as stat     # used for statistical functions\n",
    "\n",
    "\n",
    "baked_food = [200,200,250,220,245,280,230]\n",
    "z = np.array([baked_food])\n",
    "print(z)\n",
    "print(np.mean(baked_food))   # mean of all values\n",
    "print(np.median(baked_food)) # median of all values\n",
    "print(stat.mode(baked_food)) # finding mode using statistics library\n",
    "print(np.std(baked_food))    #standard deviation \n",
    "print(np.var(baked_food))    # varience\n",
    "\n",
    "print(np.corrcoef(a,b))      # corelation between 2 arrays (range from -1 to 1)\n"
   ]
  },
  {
   "cell_type": "markdown",
   "id": "e7168116-abfd-475e-8a73-9f486734b090",
   "metadata": {},
   "source": [
    "# End"
   ]
  }
 ],
 "metadata": {
  "kernelspec": {
   "display_name": "Python 3 (ipykernel)",
   "language": "python",
   "name": "python3"
  },
  "language_info": {
   "codemirror_mode": {
    "name": "ipython",
    "version": 3
   },
   "file_extension": ".py",
   "mimetype": "text/x-python",
   "name": "python",
   "nbconvert_exporter": "python",
   "pygments_lexer": "ipython3",
   "version": "3.11.3"
  }
 },
 "nbformat": 4,
 "nbformat_minor": 5
}
