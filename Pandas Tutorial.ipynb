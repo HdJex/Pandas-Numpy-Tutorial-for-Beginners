{
 "cells": [
  {
   "cell_type": "markdown",
   "id": "e38db226-d355-4179-ae93-275200e0ddeb",
   "metadata": {},
   "source": [
    "# Pandas Tutorial"
   ]
  },
  {
   "cell_type": "code",
   "execution_count": 2,
   "id": "b7c1a6ed-919c-4084-a8e4-f768dca1489d",
   "metadata": {},
   "outputs": [],
   "source": [
    "import pandas as pd  #importing pandas"
   ]
  },
  {
   "cell_type": "code",
   "execution_count": 4,
   "id": "2e1f4e87-237f-4aec-bc6c-6e7cc8e6411e",
   "metadata": {},
   "outputs": [
    {
     "name": "stdout",
     "output_type": "stream",
     "text": [
      "Series:\n",
      "0    10\n",
      "1    20\n",
      "2    30\n",
      "3    40\n",
      "4    50\n",
      "dtype: int64\n"
     ]
    }
   ],
   "source": [
    "data = [10, 20, 30, 40, 50]          # series datastructure which is 1D   \n",
    "series = pd.Series(data)\n",
    "\n",
    "print(\"Series:\")\n",
    "print(series)"
   ]
  },
  {
   "cell_type": "code",
   "execution_count": 6,
   "id": "55d3d8c7-7151-47d1-b5e6-c604fde7ac4c",
   "metadata": {},
   "outputs": [
    {
     "name": "stdout",
     "output_type": "stream",
     "text": [
      "      Name  Age Gender\n",
      "0     John   20      F\n",
      "1  Atharva   22      M\n",
      "2     arya   18      M\n"
     ]
    }
   ],
   "source": [
    "data = {\"Name\":[\"John\",\"Atharva\",\"arya\"],           # creating dataframe which is 2D\n",
    "        \"Age\":[20,22,18],\n",
    "        \"Gender\":[\"F\",\"M\",\"M\"]}\n",
    "\n",
    "df = pd.DataFrame(data)\n",
    "print(df)"
   ]
  },
  {
   "cell_type": "code",
   "execution_count": 10,
   "id": "dc72fb03-50d7-4c63-b1be-d0f174694dcc",
   "metadata": {},
   "outputs": [
    {
     "name": "stdout",
     "output_type": "stream",
     "text": [
      "      Make                    Model   Type  Origin DriveTrain      MSRP  \\\n",
      "0    Acura                      MDX    SUV    Asia        All  $36,945    \n",
      "1    Acura           RSX Type S 2dr  Sedan    Asia      Front  $23,820    \n",
      "2    Acura                  TSX 4dr  Sedan    Asia      Front  $26,990    \n",
      "3    Acura                   TL 4dr  Sedan    Asia      Front  $33,195    \n",
      "4    Acura               3.5 RL 4dr  Sedan    Asia      Front  $43,755    \n",
      "..     ...                      ...    ...     ...        ...       ...   \n",
      "427  Volvo  C70 LPT convertible 2dr  Sedan  Europe      Front  $40,565    \n",
      "428  Volvo  C70 HPT convertible 2dr  Sedan  Europe      Front  $42,565    \n",
      "429  Volvo               S80 T6 4dr  Sedan  Europe      Front  $45,210    \n",
      "430  Volvo                      V40  Wagon  Europe      Front  $26,135    \n",
      "431  Volvo                     XC70  Wagon  Europe        All  $35,145    \n",
      "\n",
      "      Invoice  EngineSize  Cylinders  Horsepower  MPG_City  MPG_Highway  \\\n",
      "0    $33,337          3.5        6.0       265.0      17.0         23.0   \n",
      "1    $21,761          2.0        4.0       200.0      24.0         31.0   \n",
      "2    $24,647          2.4        4.0       200.0      22.0         29.0   \n",
      "3    $30,299          3.2        6.0       270.0      20.0         28.0   \n",
      "4    $39,014          3.5        6.0       225.0      18.0         24.0   \n",
      "..        ...         ...        ...         ...       ...          ...   \n",
      "427  $38,203          2.4        5.0       197.0      21.0         28.0   \n",
      "428  $40,083          2.3        5.0       242.0      20.0         26.0   \n",
      "429  $42,573          2.9        6.0       268.0      19.0         26.0   \n",
      "430  $24,641          1.9        4.0       170.0      22.0         29.0   \n",
      "431  $33,112          2.5        5.0       208.0      20.0         27.0   \n",
      "\n",
      "     Weight  Wheelbase  Length  \n",
      "0    4451.0      106.0   189.0  \n",
      "1    2778.0      101.0   172.0  \n",
      "2    3230.0      105.0   183.0  \n",
      "3    3575.0      108.0   186.0  \n",
      "4    3880.0      115.0   197.0  \n",
      "..      ...        ...     ...  \n",
      "427  3450.0      105.0   186.0  \n",
      "428  3450.0      105.0   186.0  \n",
      "429  3653.0      110.0   190.0  \n",
      "430  2822.0      101.0   180.0  \n",
      "431  3823.0      109.0   186.0  \n",
      "\n",
      "[432 rows x 15 columns]\n"
     ]
    }
   ],
   "source": [
    "df = pd.read_csv(r\"C:\\Users\\User\\Desktop\\study material\\projects\\datasets\\car data using python\\car data.csv\")   # importing data from csv\n",
    "print(df)"
   ]
  },
  {
   "cell_type": "code",
   "execution_count": 14,
   "id": "b0f8adb3-50cd-41f8-98d1-6096ad517092",
   "metadata": {},
   "outputs": [
    {
     "name": "stdout",
     "output_type": "stream",
     "text": [
      "Requirement already satisfied: openpyxl in c:\\users\\user\\appdata\\local\\programs\\python\\python311\\lib\\site-packages (3.1.5)\n",
      "Requirement already satisfied: et-xmlfile in c:\\users\\user\\appdata\\local\\programs\\python\\python311\\lib\\site-packages (from openpyxl) (1.1.0)\n",
      "Note: you may need to restart the kernel to use updated packages.\n"
     ]
    },
    {
     "name": "stderr",
     "output_type": "stream",
     "text": [
      "\n",
      "[notice] A new release of pip is available: 24.1.2 -> 24.2\n",
      "[notice] To update, run: python.exe -m pip install --upgrade pip\n"
     ]
    }
   ],
   "source": [
    "pip install openpyxl           # use to import xlsx excel files using pandas  "
   ]
  },
  {
   "cell_type": "code",
   "execution_count": 17,
   "id": "e390235a-3c31-4940-9967-f5a789c35ba3",
   "metadata": {},
   "outputs": [
    {
     "name": "stdout",
     "output_type": "stream",
     "text": [
      "    Make                    Model    Type  Origin DriveTrain      MSRP  \\\n",
      "0  Acura                      MDX     SUV    Asia        All  $36,945    \n",
      "1  Acura           RSX Type S 2dr   Sedan    Asia      Front  $23,820    \n",
      "2  Acura                  TSX 4dr   Sedan    Asia      Front  $26,990    \n",
      "3  Acura                   TL 4dr   Sedan    Asia      Front  $33,195    \n",
      "4  Acura               3.5 RL 4dr   Sedan    Asia      Front  $43,755    \n",
      "5  Acura  3.5 RL w/Navigation 4dr   Sedan    Asia      Front  $46,100    \n",
      "6  Acura   NSX coupe 2dr manual S  Sports    Asia       Rear  $89,765    \n",
      "7   Audi              A4 1.8T 4dr   Sedan  Europe      Front  $25,940    \n",
      "8   Audi   A41.8T convertible 2dr   Sedan  Europe      Front  $35,940    \n",
      "9   Audi               A4 3.0 4dr   Sedan  Europe      Front  $31,840    \n",
      "\n",
      "    Invoice  EngineSize  Cylinders  Horsepower  MPG_City  MPG_Highway  Weight  \\\n",
      "0  $33,337          3.5        6.0       265.0      17.0         23.0  4451.0   \n",
      "1  $21,761          2.0        4.0       200.0      24.0         31.0  2778.0   \n",
      "2  $24,647          2.4        4.0       200.0      22.0         29.0  3230.0   \n",
      "3  $30,299          3.2        6.0       270.0      20.0         28.0  3575.0   \n",
      "4  $39,014          3.5        6.0       225.0      18.0         24.0  3880.0   \n",
      "5  $41,100          3.5        6.0       225.0      18.0         24.0  3893.0   \n",
      "6  $79,978          3.2        6.0       290.0      17.0         24.0  3153.0   \n",
      "7  $23,508          1.8        4.0       170.0      22.0         31.0  3252.0   \n",
      "8  $32,506          1.8        4.0       170.0      23.0         30.0  3638.0   \n",
      "9  $28,846          3.0        6.0       220.0      20.0         28.0  3462.0   \n",
      "\n",
      "   Wheelbase  Length  \n",
      "0      106.0   189.0  \n",
      "1      101.0   172.0  \n",
      "2      105.0   183.0  \n",
      "3      108.0   186.0  \n",
      "4      115.0   197.0  \n",
      "5      115.0   197.0  \n",
      "6      100.0   174.0  \n",
      "7      104.0   179.0  \n",
      "8      105.0   180.0  \n",
      "9      104.0   179.0  \n",
      "      Make                    Model   Type  Origin DriveTrain      MSRP  \\\n",
      "422  Volvo              S60 2.5 4dr  Sedan  Europe        All  $31,745    \n",
      "423  Volvo               S60 T5 4dr  Sedan  Europe      Front  $34,845    \n",
      "424  Volvo                S60 R 4dr  Sedan  Europe        All  $37,560    \n",
      "425  Volvo              S80 2.9 4dr  Sedan  Europe      Front  $37,730    \n",
      "426  Volvo             S80 2.5T 4dr  Sedan  Europe        All  $37,885    \n",
      "427  Volvo  C70 LPT convertible 2dr  Sedan  Europe      Front  $40,565    \n",
      "428  Volvo  C70 HPT convertible 2dr  Sedan  Europe      Front  $42,565    \n",
      "429  Volvo               S80 T6 4dr  Sedan  Europe      Front  $45,210    \n",
      "430  Volvo                      V40  Wagon  Europe      Front  $26,135    \n",
      "431  Volvo                     XC70  Wagon  Europe        All  $35,145    \n",
      "\n",
      "      Invoice  EngineSize  Cylinders  Horsepower  MPG_City  MPG_Highway  \\\n",
      "422  $29,916          2.5        5.0       208.0      20.0         27.0   \n",
      "423  $32,902          2.3        5.0       247.0      20.0         28.0   \n",
      "424  $35,382          2.5        5.0       300.0      18.0         25.0   \n",
      "425  $35,542          2.9        6.0       208.0      20.0         28.0   \n",
      "426  $35,688          2.5        5.0       194.0      20.0         27.0   \n",
      "427  $38,203          2.4        5.0       197.0      21.0         28.0   \n",
      "428  $40,083          2.3        5.0       242.0      20.0         26.0   \n",
      "429  $42,573          2.9        6.0       268.0      19.0         26.0   \n",
      "430  $24,641          1.9        4.0       170.0      22.0         29.0   \n",
      "431  $33,112          2.5        5.0       208.0      20.0         27.0   \n",
      "\n",
      "     Weight  Wheelbase  Length  \n",
      "422  3903.0      107.0   180.0  \n",
      "423  3766.0      107.0   180.0  \n",
      "424  3571.0      107.0   181.0  \n",
      "425  3576.0      110.0   190.0  \n",
      "426  3691.0      110.0   190.0  \n",
      "427  3450.0      105.0   186.0  \n",
      "428  3450.0      105.0   186.0  \n",
      "429  3653.0      110.0   190.0  \n",
      "430  2822.0      101.0   180.0  \n",
      "431  3823.0      109.0   186.0  \n"
     ]
    }
   ],
   "source": [
    "  # exploring data using pandas\n",
    "\n",
    "print(df.head(10))         # print top 10 values of dataset\n",
    "print(df.tail(10))         # print last 10 values of dataset"
   ]
  },
  {
   "cell_type": "code",
   "execution_count": 19,
   "id": "a42c2cb8-1034-4503-be15-4544aec2c3c8",
   "metadata": {},
   "outputs": [
    {
     "name": "stdout",
     "output_type": "stream",
     "text": [
      "<class 'pandas.core.frame.DataFrame'>\n",
      "RangeIndex: 432 entries, 0 to 431\n",
      "Data columns (total 15 columns):\n",
      " #   Column       Non-Null Count  Dtype  \n",
      "---  ------       --------------  -----  \n",
      " 0   Make         428 non-null    object \n",
      " 1   Model        428 non-null    object \n",
      " 2   Type         428 non-null    object \n",
      " 3   Origin       428 non-null    object \n",
      " 4   DriveTrain   428 non-null    object \n",
      " 5   MSRP         428 non-null    object \n",
      " 6   Invoice      428 non-null    object \n",
      " 7   EngineSize   428 non-null    float64\n",
      " 8   Cylinders    426 non-null    float64\n",
      " 9   Horsepower   428 non-null    float64\n",
      " 10  MPG_City     428 non-null    float64\n",
      " 11  MPG_Highway  428 non-null    float64\n",
      " 12  Weight       428 non-null    float64\n",
      " 13  Wheelbase    428 non-null    float64\n",
      " 14  Length       428 non-null    float64\n",
      "dtypes: float64(8), object(7)\n",
      "memory usage: 50.8+ KB\n",
      "None\n"
     ]
    }
   ],
   "source": [
    "print(df.info())      # gives info about data"
   ]
  },
  {
   "cell_type": "code",
   "execution_count": 23,
   "id": "d5a34401-cd7c-4ad2-adb5-dc21a46d0fa3",
   "metadata": {},
   "outputs": [
    {
     "name": "stdout",
     "output_type": "stream",
     "text": [
      "Make            object\n",
      "Model           object\n",
      "Type            object\n",
      "Origin          object\n",
      "DriveTrain      object\n",
      "MSRP            object\n",
      "Invoice         object\n",
      "EngineSize     float64\n",
      "Cylinders      float64\n",
      "Horsepower     float64\n",
      "MPG_City       float64\n",
      "MPG_Highway    float64\n",
      "Weight         float64\n",
      "Wheelbase      float64\n",
      "Length         float64\n",
      "dtype: object\n"
     ]
    }
   ],
   "source": [
    "print(df.dtypes)        # gives the datatypes of each columns"
   ]
  },
  {
   "cell_type": "code",
   "execution_count": 25,
   "id": "90470d73-fc87-46a0-9f26-d06f9a4fc4ef",
   "metadata": {},
   "outputs": [
    {
     "name": "stdout",
     "output_type": "stream",
     "text": [
      "       EngineSize   Cylinders  Horsepower    MPG_City  MPG_Highway  \\\n",
      "count  428.000000  426.000000  428.000000  428.000000   428.000000   \n",
      "mean     3.196729    5.807512  215.885514   20.060748    26.843458   \n",
      "std      1.108595    1.558443   71.836032    5.238218     5.741201   \n",
      "min      1.300000    3.000000   73.000000   10.000000    12.000000   \n",
      "25%      2.375000    4.000000  165.000000   17.000000    24.000000   \n",
      "50%      3.000000    6.000000  210.000000   19.000000    26.000000   \n",
      "75%      3.900000    6.000000  255.000000   21.250000    29.000000   \n",
      "max      8.300000   12.000000  500.000000   60.000000    66.000000   \n",
      "\n",
      "            Weight   Wheelbase      Length  \n",
      "count   428.000000  428.000000  428.000000  \n",
      "mean   3577.953271  108.154206  186.362150  \n",
      "std     758.983215    8.311813   14.357991  \n",
      "min    1850.000000   89.000000  143.000000  \n",
      "25%    3104.000000  103.000000  178.000000  \n",
      "50%    3474.500000  107.000000  187.000000  \n",
      "75%    3977.750000  112.000000  194.000000  \n",
      "max    7190.000000  144.000000  238.000000  \n"
     ]
    }
   ],
   "source": [
    "print(df.describe())            # give all important values about data"
   ]
  },
  {
   "cell_type": "code",
   "execution_count": 27,
   "id": "b8fcc00a-ffe8-4c09-99e2-5ee2be92e5ac",
   "metadata": {},
   "outputs": [
    {
     "name": "stdout",
     "output_type": "stream",
     "text": [
      "Make           4\n",
      "Model          4\n",
      "Type           4\n",
      "Origin         4\n",
      "DriveTrain     4\n",
      "MSRP           4\n",
      "Invoice        4\n",
      "EngineSize     4\n",
      "Cylinders      6\n",
      "Horsepower     4\n",
      "MPG_City       4\n",
      "MPG_Highway    4\n",
      "Weight         4\n",
      "Wheelbase      4\n",
      "Length         4\n",
      "dtype: int64\n"
     ]
    }
   ],
   "source": [
    "print(df.isnull().sum())           # show sum of all null values in each column"
   ]
  },
  {
   "cell_type": "code",
   "execution_count": 32,
   "id": "4891c7ae-7e5e-42ff-951e-375db319456a",
   "metadata": {},
   "outputs": [
    {
     "name": "stdout",
     "output_type": "stream",
     "text": [
      "3\n"
     ]
    }
   ],
   "source": [
    "print(df.duplicated().sum())      # show the duplicated values "
   ]
  },
  {
   "cell_type": "markdown",
   "id": "444a0a69-cee5-4f2d-9805-a1745f9d5d95",
   "metadata": {},
   "source": [
    "## cleaning the null  and duplicated values"
   ]
  },
  {
   "cell_type": "code",
   "execution_count": 49,
   "id": "fd8399a1-fb1f-4319-8143-bd8afc78ac8a",
   "metadata": {},
   "outputs": [
    {
     "name": "stdout",
     "output_type": "stream",
     "text": [
      "      Make                    Model   Type  Origin DriveTrain      MSRP  \\\n",
      "0    Acura                      MDX    SUV    Asia        All  $36,945    \n",
      "1    Acura           RSX Type S 2dr  Sedan    Asia      Front  $23,820    \n",
      "2    Acura                  TSX 4dr  Sedan    Asia      Front  $26,990    \n",
      "3    Acura                   TL 4dr  Sedan    Asia      Front  $33,195    \n",
      "4    Acura               3.5 RL 4dr  Sedan    Asia      Front  $43,755    \n",
      "..     ...                      ...    ...     ...        ...       ...   \n",
      "427  Volvo  C70 LPT convertible 2dr  Sedan  Europe      Front  $40,565    \n",
      "428  Volvo  C70 HPT convertible 2dr  Sedan  Europe      Front  $42,565    \n",
      "429  Volvo               S80 T6 4dr  Sedan  Europe      Front  $45,210    \n",
      "430  Volvo                      V40  Wagon  Europe      Front  $26,135    \n",
      "431  Volvo                     XC70  Wagon  Europe        All  $35,145    \n",
      "\n",
      "      Invoice  EngineSize  Cylinders  Horsepower  MPG_City  MPG_Highway  \\\n",
      "0    $33,337          3.5        6.0       265.0      17.0         23.0   \n",
      "1    $21,761          2.0        4.0       200.0      24.0         31.0   \n",
      "2    $24,647          2.4        4.0       200.0      22.0         29.0   \n",
      "3    $30,299          3.2        6.0       270.0      20.0         28.0   \n",
      "4    $39,014          3.5        6.0       225.0      18.0         24.0   \n",
      "..        ...         ...        ...         ...       ...          ...   \n",
      "427  $38,203          2.4        5.0       197.0      21.0         28.0   \n",
      "428  $40,083          2.3        5.0       242.0      20.0         26.0   \n",
      "429  $42,573          2.9        6.0       268.0      19.0         26.0   \n",
      "430  $24,641          1.9        4.0       170.0      22.0         29.0   \n",
      "431  $33,112          2.5        5.0       208.0      20.0         27.0   \n",
      "\n",
      "     Weight  Wheelbase  Length  \n",
      "0    4451.0      106.0   189.0  \n",
      "1    2778.0      101.0   172.0  \n",
      "2    3230.0      105.0   183.0  \n",
      "3    3575.0      108.0   186.0  \n",
      "4    3880.0      115.0   197.0  \n",
      "..      ...        ...     ...  \n",
      "427  3450.0      105.0   186.0  \n",
      "428  3450.0      105.0   186.0  \n",
      "429  3653.0      110.0   190.0  \n",
      "430  2822.0      101.0   180.0  \n",
      "431  3823.0      109.0   186.0  \n",
      "\n",
      "[429 rows x 15 columns]\n"
     ]
    }
   ],
   "source": [
    "df.drop_duplicates(inplace=True)\n",
    "print(df)                  # dropping the duplicated columns inplae=ce = true mean doing permanent changes on dataset"
   ]
  },
  {
   "cell_type": "code",
   "execution_count": 50,
   "id": "b171db59-39b3-4ad4-9034-21488f7f886d",
   "metadata": {},
   "outputs": [
    {
     "name": "stdout",
     "output_type": "stream",
     "text": [
      "      Make                    Model   Type  Origin DriveTrain      MSRP  \\\n",
      "0    Acura                      MDX    SUV    Asia        All  $36,945    \n",
      "1    Acura           RSX Type S 2dr  Sedan    Asia      Front  $23,820    \n",
      "2    Acura                  TSX 4dr  Sedan    Asia      Front  $26,990    \n",
      "3    Acura                   TL 4dr  Sedan    Asia      Front  $33,195    \n",
      "4    Acura               3.5 RL 4dr  Sedan    Asia      Front  $43,755    \n",
      "..     ...                      ...    ...     ...        ...       ...   \n",
      "427  Volvo  C70 LPT convertible 2dr  Sedan  Europe      Front  $40,565    \n",
      "428  Volvo  C70 HPT convertible 2dr  Sedan  Europe      Front  $42,565    \n",
      "429  Volvo               S80 T6 4dr  Sedan  Europe      Front  $45,210    \n",
      "430  Volvo                      V40  Wagon  Europe      Front  $26,135    \n",
      "431  Volvo                     XC70  Wagon  Europe        All  $35,145    \n",
      "\n",
      "      Invoice  EngineSize  Cylinders  Horsepower  MPG_City  MPG_Highway  \\\n",
      "0    $33,337          3.5        6.0       265.0      17.0         23.0   \n",
      "1    $21,761          2.0        4.0       200.0      24.0         31.0   \n",
      "2    $24,647          2.4        4.0       200.0      22.0         29.0   \n",
      "3    $30,299          3.2        6.0       270.0      20.0         28.0   \n",
      "4    $39,014          3.5        6.0       225.0      18.0         24.0   \n",
      "..        ...         ...        ...         ...       ...          ...   \n",
      "427  $38,203          2.4        5.0       197.0      21.0         28.0   \n",
      "428  $40,083          2.3        5.0       242.0      20.0         26.0   \n",
      "429  $42,573          2.9        6.0       268.0      19.0         26.0   \n",
      "430  $24,641          1.9        4.0       170.0      22.0         29.0   \n",
      "431  $33,112          2.5        5.0       208.0      20.0         27.0   \n",
      "\n",
      "     Weight  Wheelbase  Length  \n",
      "0    4451.0      106.0   189.0  \n",
      "1    2778.0      101.0   172.0  \n",
      "2    3230.0      105.0   183.0  \n",
      "3    3575.0      108.0   186.0  \n",
      "4    3880.0      115.0   197.0  \n",
      "..      ...        ...     ...  \n",
      "427  3450.0      105.0   186.0  \n",
      "428  3450.0      105.0   186.0  \n",
      "429  3653.0      110.0   190.0  \n",
      "430  2822.0      101.0   180.0  \n",
      "431  3823.0      109.0   186.0  \n",
      "\n",
      "[426 rows x 15 columns]\n"
     ]
    }
   ],
   "source": [
    "print(df.dropna())                   # dropping the null values"
   ]
  },
  {
   "cell_type": "code",
   "execution_count": 51,
   "id": "c15c28d6-0a80-4982-bdcb-8d3dfc753313",
   "metadata": {},
   "outputs": [
    {
     "name": "stdout",
     "output_type": "stream",
     "text": [
      "      Make                    Model   Type  Origin DriveTrain      MSRP  \\\n",
      "0    Acura                      MDX    SUV    Asia        All  $36,945    \n",
      "1    Acura           RSX Type S 2dr  Sedan    Asia      Front  $23,820    \n",
      "2    Acura                  TSX 4dr  Sedan    Asia      Front  $26,990    \n",
      "3    Acura                   TL 4dr  Sedan    Asia      Front  $33,195    \n",
      "4    Acura               3.5 RL 4dr  Sedan    Asia      Front  $43,755    \n",
      "..     ...                      ...    ...     ...        ...       ...   \n",
      "427  Volvo  C70 LPT convertible 2dr  Sedan  Europe      Front  $40,565    \n",
      "428  Volvo  C70 HPT convertible 2dr  Sedan  Europe      Front  $42,565    \n",
      "429  Volvo               S80 T6 4dr  Sedan  Europe      Front  $45,210    \n",
      "430  Volvo                      V40  Wagon  Europe      Front  $26,135    \n",
      "431  Volvo                     XC70  Wagon  Europe        All  $35,145    \n",
      "\n",
      "      Invoice  EngineSize  Cylinders  Horsepower  MPG_City  MPG_Highway  \\\n",
      "0    $33,337          3.5        6.0       265.0      17.0         23.0   \n",
      "1    $21,761          2.0        4.0       200.0      24.0         31.0   \n",
      "2    $24,647          2.4        4.0       200.0      22.0         29.0   \n",
      "3    $30,299          3.2        6.0       270.0      20.0         28.0   \n",
      "4    $39,014          3.5        6.0       225.0      18.0         24.0   \n",
      "..        ...         ...        ...         ...       ...          ...   \n",
      "427  $38,203          2.4        5.0       197.0      21.0         28.0   \n",
      "428  $40,083          2.3        5.0       242.0      20.0         26.0   \n",
      "429  $42,573          2.9        6.0       268.0      19.0         26.0   \n",
      "430  $24,641          1.9        4.0       170.0      22.0         29.0   \n",
      "431  $33,112          2.5        5.0       208.0      20.0         27.0   \n",
      "\n",
      "     Weight  Wheelbase  Length  \n",
      "0    4451.0      106.0   189.0  \n",
      "1    2778.0      101.0   172.0  \n",
      "2    3230.0      105.0   183.0  \n",
      "3    3575.0      108.0   186.0  \n",
      "4    3880.0      115.0   197.0  \n",
      "..      ...        ...     ...  \n",
      "427  3450.0      105.0   186.0  \n",
      "428  3450.0      105.0   186.0  \n",
      "429  3653.0      110.0   190.0  \n",
      "430  2822.0      101.0   180.0  \n",
      "431  3823.0      109.0   186.0  \n",
      "\n",
      "[429 rows x 15 columns]\n"
     ]
    }
   ],
   "source": [
    "print(df.fillna(method= \"bfill\"))       # fill the value below the na value"
   ]
  },
  {
   "cell_type": "code",
   "execution_count": 46,
   "id": "46ff5c40-f93d-4185-b267-db5d6bf26146",
   "metadata": {},
   "outputs": [
    {
     "name": "stdout",
     "output_type": "stream",
     "text": [
      "      Make                    Model   Type  Origin DriveTrain      MSRP  \\\n",
      "0    Acura                      MDX    SUV    Asia        All  $36,945    \n",
      "1    Acura           RSX Type S 2dr  Sedan    Asia      Front  $23,820    \n",
      "2    Acura                  TSX 4dr  Sedan    Asia      Front  $26,990    \n",
      "3    Acura                   TL 4dr  Sedan    Asia      Front  $33,195    \n",
      "4    Acura               3.5 RL 4dr  Sedan    Asia      Front  $43,755    \n",
      "..     ...                      ...    ...     ...        ...       ...   \n",
      "427  Volvo  C70 LPT convertible 2dr  Sedan  Europe      Front  $40,565    \n",
      "428  Volvo  C70 HPT convertible 2dr  Sedan  Europe      Front  $42,565    \n",
      "429  Volvo               S80 T6 4dr  Sedan  Europe      Front  $45,210    \n",
      "430  Volvo                      V40  Wagon  Europe      Front  $26,135    \n",
      "431  Volvo                     XC70  Wagon  Europe        All  $35,145    \n",
      "\n",
      "      Invoice  EngineSize  Cylinders  Horsepower  MPG_City  MPG_Highway  \\\n",
      "0    $33,337          3.5        6.0       265.0      17.0         23.0   \n",
      "1    $21,761          2.0        4.0       200.0      24.0         31.0   \n",
      "2    $24,647          2.4        4.0       200.0      22.0         29.0   \n",
      "3    $30,299          3.2        6.0       270.0      20.0         28.0   \n",
      "4    $39,014          3.5        6.0       225.0      18.0         24.0   \n",
      "..        ...         ...        ...         ...       ...          ...   \n",
      "427  $38,203          2.4        5.0       197.0      21.0         28.0   \n",
      "428  $40,083          2.3        5.0       242.0      20.0         26.0   \n",
      "429  $42,573          2.9        6.0       268.0      19.0         26.0   \n",
      "430  $24,641          1.9        4.0       170.0      22.0         29.0   \n",
      "431  $33,112          2.5        5.0       208.0      20.0         27.0   \n",
      "\n",
      "     Weight  Wheelbase  Length  \n",
      "0    4451.0      106.0   189.0  \n",
      "1    2778.0      101.0   172.0  \n",
      "2    3230.0      105.0   183.0  \n",
      "3    3575.0      108.0   186.0  \n",
      "4    3880.0      115.0   197.0  \n",
      "..      ...        ...     ...  \n",
      "427  3450.0      105.0   186.0  \n",
      "428  3450.0      105.0   186.0  \n",
      "429  3653.0      110.0   190.0  \n",
      "430  2822.0      101.0   180.0  \n",
      "431  3823.0      109.0   186.0  \n",
      "\n",
      "[432 rows x 15 columns]\n"
     ]
    }
   ],
   "source": [
    "print(df.fillna(method= \"ffill\"))       # fill the value above the na value "
   ]
  },
  {
   "cell_type": "markdown",
   "id": "470ac6fa-d019-4830-9c1d-4a1ae269c424",
   "metadata": {},
   "source": [
    "## column transformation using pandas"
   ]
  },
  {
   "cell_type": "code",
   "execution_count": 64,
   "id": "4a288910-4552-446b-bd53-b5f58fc03483",
   "metadata": {},
   "outputs": [
    {
     "name": "stdout",
     "output_type": "stream",
     "text": [
      "     Make  Model     full_name\n",
      "0  Toyota  Camry  Toyota Camry\n",
      "1   Honda  Civic   Honda Civic\n",
      "2    Ford  Focus    Ford Focus\n"
     ]
    }
   ],
   "source": [
    "import pandas as pd\n",
    "\n",
    "# Sample DataFrame\n",
    "data = {\n",
    "    'Make': ['Toyota', 'Honda', 'Ford'],\n",
    "    'Model': ['Camry', 'Civic', 'Focus']\n",
    "}\n",
    "df = pd.DataFrame(data)\n",
    "\n",
    "# Concatenate 'Make' and 'Model' into a new column 'full_name'\n",
    "df['full_name'] = df['Make'] + ' ' + df['Model']\n",
    "\n",
    "# Print the DataFrame\n",
    "print(df)\n"
   ]
  },
  {
   "cell_type": "code",
   "execution_count": 66,
   "id": "5ccf107c-221e-4785-a40e-f3239b770740",
   "metadata": {},
   "outputs": [
    {
     "name": "stdout",
     "output_type": "stream",
     "text": [
      "   EngineSize        engine\n",
      "0         2.5  Small engine\n",
      "1         3.2    Big engine\n",
      "2         2.8  Small engine\n",
      "3         3.5    Big engine\n",
      "4         3.0       Unknown\n"
     ]
    }
   ],
   "source": [
    "\n",
    "\n",
    "# Sample DataFrame\n",
    "data = {\n",
    "    'EngineSize': [2.5, 3.2, 2.8, 3.5, 3.0],\n",
    "    'engine': ['Unknown'] * 5\n",
    "}\n",
    "df = pd.DataFrame(data)\n",
    "\n",
    "# Update 'engine' based on 'EngineSize'\n",
    "df.loc[df['EngineSize'] < 3.0, 'engine'] = 'Small engine'\n",
    "df.loc[df['EngineSize'] > 3.0, 'engine'] = 'Big engine'\n",
    "\n",
    "# Print the first 5 rows of the DataFrame\n",
    "print(df.head(5))\n"
   ]
  },
  {
   "cell_type": "markdown",
   "id": "c83c627f-c5bf-42eb-bd89-1491dee1e125",
   "metadata": {},
   "source": [
    "## Groupby in pandas"
   ]
  },
  {
   "cell_type": "code",
   "execution_count": 69,
   "id": "233e92a6-0225-48bc-8a52-304a0b1fd65d",
   "metadata": {},
   "outputs": [
    {
     "data": {
      "text/html": [
       "<div>\n",
       "<style scoped>\n",
       "    .dataframe tbody tr th:only-of-type {\n",
       "        vertical-align: middle;\n",
       "    }\n",
       "\n",
       "    .dataframe tbody tr th {\n",
       "        vertical-align: top;\n",
       "    }\n",
       "\n",
       "    .dataframe thead th {\n",
       "        text-align: right;\n",
       "    }\n",
       "</style>\n",
       "<table border=\"1\" class=\"dataframe\">\n",
       "  <thead>\n",
       "    <tr style=\"text-align: right;\">\n",
       "      <th></th>\n",
       "      <th>Make</th>\n",
       "      <th>Model</th>\n",
       "      <th>Type</th>\n",
       "      <th>Origin</th>\n",
       "      <th>DriveTrain</th>\n",
       "      <th>MSRP</th>\n",
       "      <th>Invoice</th>\n",
       "      <th>EngineSize</th>\n",
       "      <th>Cylinders</th>\n",
       "      <th>Horsepower</th>\n",
       "      <th>MPG_City</th>\n",
       "      <th>MPG_Highway</th>\n",
       "      <th>Weight</th>\n",
       "      <th>Wheelbase</th>\n",
       "      <th>Length</th>\n",
       "    </tr>\n",
       "  </thead>\n",
       "  <tbody>\n",
       "    <tr>\n",
       "      <th>0</th>\n",
       "      <td>Acura</td>\n",
       "      <td>MDX</td>\n",
       "      <td>SUV</td>\n",
       "      <td>Asia</td>\n",
       "      <td>All</td>\n",
       "      <td>$36,945</td>\n",
       "      <td>$33,337</td>\n",
       "      <td>3.5</td>\n",
       "      <td>6.0</td>\n",
       "      <td>265.0</td>\n",
       "      <td>17.0</td>\n",
       "      <td>23.0</td>\n",
       "      <td>4451.0</td>\n",
       "      <td>106.0</td>\n",
       "      <td>189.0</td>\n",
       "    </tr>\n",
       "    <tr>\n",
       "      <th>1</th>\n",
       "      <td>Acura</td>\n",
       "      <td>RSX Type S 2dr</td>\n",
       "      <td>Sedan</td>\n",
       "      <td>Asia</td>\n",
       "      <td>Front</td>\n",
       "      <td>$23,820</td>\n",
       "      <td>$21,761</td>\n",
       "      <td>2.0</td>\n",
       "      <td>4.0</td>\n",
       "      <td>200.0</td>\n",
       "      <td>24.0</td>\n",
       "      <td>31.0</td>\n",
       "      <td>2778.0</td>\n",
       "      <td>101.0</td>\n",
       "      <td>172.0</td>\n",
       "    </tr>\n",
       "    <tr>\n",
       "      <th>2</th>\n",
       "      <td>Acura</td>\n",
       "      <td>TSX 4dr</td>\n",
       "      <td>Sedan</td>\n",
       "      <td>Asia</td>\n",
       "      <td>Front</td>\n",
       "      <td>$26,990</td>\n",
       "      <td>$24,647</td>\n",
       "      <td>2.4</td>\n",
       "      <td>4.0</td>\n",
       "      <td>200.0</td>\n",
       "      <td>22.0</td>\n",
       "      <td>29.0</td>\n",
       "      <td>3230.0</td>\n",
       "      <td>105.0</td>\n",
       "      <td>183.0</td>\n",
       "    </tr>\n",
       "    <tr>\n",
       "      <th>3</th>\n",
       "      <td>Acura</td>\n",
       "      <td>TL 4dr</td>\n",
       "      <td>Sedan</td>\n",
       "      <td>Asia</td>\n",
       "      <td>Front</td>\n",
       "      <td>$33,195</td>\n",
       "      <td>$30,299</td>\n",
       "      <td>3.2</td>\n",
       "      <td>6.0</td>\n",
       "      <td>270.0</td>\n",
       "      <td>20.0</td>\n",
       "      <td>28.0</td>\n",
       "      <td>3575.0</td>\n",
       "      <td>108.0</td>\n",
       "      <td>186.0</td>\n",
       "    </tr>\n",
       "    <tr>\n",
       "      <th>4</th>\n",
       "      <td>Acura</td>\n",
       "      <td>3.5 RL 4dr</td>\n",
       "      <td>Sedan</td>\n",
       "      <td>Asia</td>\n",
       "      <td>Front</td>\n",
       "      <td>$43,755</td>\n",
       "      <td>$39,014</td>\n",
       "      <td>3.5</td>\n",
       "      <td>6.0</td>\n",
       "      <td>225.0</td>\n",
       "      <td>18.0</td>\n",
       "      <td>24.0</td>\n",
       "      <td>3880.0</td>\n",
       "      <td>115.0</td>\n",
       "      <td>197.0</td>\n",
       "    </tr>\n",
       "  </tbody>\n",
       "</table>\n",
       "</div>"
      ],
      "text/plain": [
       "    Make           Model   Type Origin DriveTrain      MSRP   Invoice  \\\n",
       "0  Acura             MDX    SUV   Asia        All  $36,945   $33,337    \n",
       "1  Acura  RSX Type S 2dr  Sedan   Asia      Front  $23,820   $21,761    \n",
       "2  Acura         TSX 4dr  Sedan   Asia      Front  $26,990   $24,647    \n",
       "3  Acura          TL 4dr  Sedan   Asia      Front  $33,195   $30,299    \n",
       "4  Acura      3.5 RL 4dr  Sedan   Asia      Front  $43,755   $39,014    \n",
       "\n",
       "   EngineSize  Cylinders  Horsepower  MPG_City  MPG_Highway  Weight  \\\n",
       "0         3.5        6.0       265.0      17.0         23.0  4451.0   \n",
       "1         2.0        4.0       200.0      24.0         31.0  2778.0   \n",
       "2         2.4        4.0       200.0      22.0         29.0  3230.0   \n",
       "3         3.2        6.0       270.0      20.0         28.0  3575.0   \n",
       "4         3.5        6.0       225.0      18.0         24.0  3880.0   \n",
       "\n",
       "   Wheelbase  Length  \n",
       "0      106.0   189.0  \n",
       "1      101.0   172.0  \n",
       "2      105.0   183.0  \n",
       "3      108.0   186.0  \n",
       "4      115.0   197.0  "
      ]
     },
     "execution_count": 69,
     "metadata": {},
     "output_type": "execute_result"
    }
   ],
   "source": [
    "df = pd.read_csv(r\"C:\\Users\\User\\Desktop\\study material\\projects\\datasets\\car data using python\\car data.csv\") \n",
    "df.head()"
   ]
  },
  {
   "cell_type": "code",
   "execution_count": 74,
   "id": "80da8139-2ff1-4aa9-909c-af6d4a3c8f34",
   "metadata": {},
   "outputs": [
    {
     "name": "stdout",
     "output_type": "stream",
     "text": [
      "               DriveTrain\n",
      "Make                     \n",
      "Acura                   7\n",
      "Audi                   19\n",
      "BMW                    20\n",
      "Buick                   9\n",
      "Cadillac                8\n",
      "Chevrolet              27\n",
      "Chrysler               15\n",
      "Dodge                  13\n",
      "Ford                   23\n",
      "GMC                     8\n",
      "Honda                  17\n",
      "Hummer                  1\n",
      "Hyundai                12\n",
      "Infiniti                8\n",
      "Isuzu                   2\n",
      "Jaguar                 12\n",
      "Jeep                    3\n",
      "Kia                    11\n",
      "Land Rover              3\n",
      "Lexus                  11\n",
      "Lincoln                 9\n",
      "MINI                    2\n",
      "Mazda                  11\n",
      "Mercedes-Benz          26\n",
      "Mercury                 9\n",
      "Mitsubishi             13\n",
      "Nissan                 17\n",
      "Oldsmobile              3\n",
      "Pontiac                11\n",
      "Porsche                 7\n",
      "Saab                    7\n",
      "Saturn                  8\n",
      "Scion                   2\n",
      "Subaru                 11\n",
      "Suzuki                  8\n",
      "Toyota                 28\n",
      "Volkswagen             15\n",
      "Volvo                  12\n"
     ]
    }
   ],
   "source": [
    "gp = df.groupby('Make').agg({'DriveTrain': 'count'})        # grouping my car brand \n",
    "\n",
    "print(gp)"
   ]
  },
  {
   "cell_type": "code",
   "execution_count": 78,
   "id": "51935566-c739-4e64-bc71-4b62ca719ff4",
   "metadata": {},
   "outputs": [
    {
     "name": "stdout",
     "output_type": "stream",
     "text": [
      "                    Weight\n",
      "Make                      \n",
      "Acura          3565.714286\n",
      "Audi           3700.631579\n",
      "BMW            3611.350000\n",
      "Buick          3757.666667\n",
      "Cadillac       4363.625000\n",
      "Chevrolet      3640.222222\n",
      "Chrysler       3534.333333\n",
      "Dodge          3638.769231\n",
      "Ford           3748.913043\n",
      "GMC            4731.375000\n",
      "Honda          3101.000000\n",
      "Hummer         6400.000000\n",
      "Hyundai        2930.000000\n",
      "Infiniti       3741.000000\n",
      "Isuzu          4401.500000\n",
      "Jaguar         3821.750000\n",
      "Jeep           3730.333333\n",
      "Kia            3167.909091\n",
      "Land Rover     4510.666667\n",
      "Lexus          3909.000000\n",
      "Lincoln        4323.666667\n",
      "MINI           2601.000000\n",
      "Mazda          2980.909091\n",
      "Mercedes-Benz  3851.923077\n",
      "Mercury        3908.444444\n",
      "Mitsubishi     3358.153846\n",
      "Nissan         3618.058824\n",
      "Oldsmobile     3326.333333\n",
      "Pontiac        3440.909091\n",
      "Porsche        3328.142857\n",
      "Saab           3441.428571\n",
      "Saturn         2908.125000\n",
      "Scion          2382.500000\n",
      "Subaru         3339.363636\n",
      "Suzuki         2977.875000\n",
      "Toyota         3277.285714\n",
      "Volkswagen     3663.200000\n",
      "Volvo          3592.500000\n"
     ]
    }
   ],
   "source": [
    "gp = df.groupby('Make').agg({'Weight': 'mean'})        # grouping my car brand by mean of weigth column\n",
    "\n",
    "print(gp)"
   ]
  },
  {
   "cell_type": "code",
   "execution_count": 79,
   "id": "54c075d5-cfdd-4a7c-b347-961e6105bff9",
   "metadata": {},
   "outputs": [
    {
     "name": "stdout",
     "output_type": "stream",
     "text": [
      "                   MSRP    Invoice\n",
      "Make                              \n",
      "Acura          $89,765    $21,761 \n",
      "Audi           $84,600    $23,508 \n",
      "BMW            $73,195    $26,155 \n",
      "Buick          $40,720    $20,351 \n",
      "Cadillac       $76,200    $28,575 \n",
      "Chevrolet      $51,535    $10,965 \n",
      "Chrysler       $38,380    $16,919 \n",
      "Dodge          $81,795    $12,849 \n",
      "Ford           $41,475    $12,482 \n",
      "GMC            $46,265    $14,877 \n",
      "Honda          $33,260    $12,175 \n",
      "Hummer         $49,995    $45,815 \n",
      "Hyundai        $26,189    $10,107 \n",
      "Infiniti       $52,545    $26,157 \n",
      "Isuzu          $31,849    $19,261 \n",
      "Jaguar         $86,995    $27,355 \n",
      "Jeep           $27,905    $18,973 \n",
      "Kia            $26,000    $10,705 \n",
      "Land Rover     $72,250    $23,969 \n",
      "Lexus          $64,800    $27,404 \n",
      "Lincoln        $52,775    $29,969 \n",
      "MINI           $19,999    $15,437 \n",
      "Mazda          $28,750    $14,070 \n",
      "Mercedes-Benz  $94,820   $113,388 \n",
      "Mercury        $34,495    $19,848 \n",
      "Mitsubishi     $33,112    $13,751 \n",
      "Nissan         $34,390    $12,205 \n",
      "Oldsmobile     $28,790    $17,642 \n",
      "Pontiac        $35,995    $14,375 \n",
      "Porsche        $84,165   $173,560 \n",
      "Saab           $43,175    $29,269 \n",
      "Saturn         $23,560    $10,319 \n",
      "Scion          $14,165    $12,340 \n",
      "Subaru         $31,545    $18,399 \n",
      "Suzuki         $23,699    $12,116 \n",
      "Toyota         $54,765    $10,144 \n",
      "Volkswagen     $75,000    $17,427 \n",
      "Volvo          $45,210    $23,701 \n"
     ]
    }
   ],
   "source": [
    "gp = df.groupby('Make').agg({'MSRP': 'max','Invoice': 'min'})        # grouping my car brand by max of msrp and min of invoice\n",
    "\n",
    "print(gp)"
   ]
  },
  {
   "cell_type": "markdown",
   "id": "4e8b607f-0b5c-4544-a15e-3a60ad71c2a9",
   "metadata": {},
   "source": [
    " ## merge join and concat "
   ]
  },
  {
   "cell_type": "code",
   "execution_count": 81,
   "id": "727c33d7-3846-4d81-9dd9-1fc7d376926b",
   "metadata": {},
   "outputs": [],
   "source": [
    "import pandas as pd\n",
    "\n",
    "# Create the first DataFrame\n",
    "df1 = pd.DataFrame({\n",
    "    'ID': [1, 2, 3, 4],\n",
    "    'Name': ['Alice', 'Bob', 'Charlie', 'David']\n",
    "})\n",
    "\n",
    "# Create the second DataFrame\n",
    "df2 = pd.DataFrame({\n",
    "    'ID': [1, 2, 3, 4],\n",
    "    'Age': [25, 30, 35, 40]\n",
    "})\n"
   ]
  },
  {
   "cell_type": "code",
   "execution_count": 84,
   "id": "db5f5e53-19e3-43da-a4f8-fb8c341a10f7",
   "metadata": {},
   "outputs": [
    {
     "name": "stdout",
     "output_type": "stream",
     "text": [
      "   ID     Name  Age\n",
      "0   1    Alice   25\n",
      "1   2      Bob   30\n",
      "2   3  Charlie   35\n",
      "3   4    David   40\n"
     ]
    }
   ],
   "source": [
    "print(pd.merge(df1,df2, on = \"ID\"))          # merging data on basis of common ID column      you can use how = left , right , inner to perfom joins"
   ]
  },
  {
   "cell_type": "code",
   "execution_count": 87,
   "id": "d5b9cca4-00dc-4e9a-9337-af0ff50b4e8e",
   "metadata": {},
   "outputs": [
    {
     "name": "stdout",
     "output_type": "stream",
     "text": [
      "   ID     Name   Age\n",
      "0   1    Alice   NaN\n",
      "1   2      Bob   NaN\n",
      "2   3  Charlie   NaN\n",
      "3   4    David   NaN\n",
      "0   1      NaN  25.0\n",
      "1   2      NaN  30.0\n",
      "2   3      NaN  35.0\n",
      "3   4      NaN  40.0\n"
     ]
    }
   ],
   "source": [
    "print(pd.concat([df1,df2]))          # concatinate the datas"
   ]
  },
  {
   "cell_type": "markdown",
   "id": "5fc4c3de-d913-4170-a579-9d15888828a0",
   "metadata": {},
   "source": [
    "## comparing data frames"
   ]
  },
  {
   "cell_type": "code",
   "execution_count": 88,
   "id": "d9f4b6f4-e3ed-429d-9677-4f73490be4ac",
   "metadata": {},
   "outputs": [],
   "source": [
    "import pandas as pd\n",
    "\n",
    "# Create two DataFrames\n",
    "df1 = pd.DataFrame({\n",
    "    'ID': [1, 2, 3, 4],\n",
    "    'Name': ['Alice', 'Bob', 'Charlie', 'David'],\n",
    "    'Age': [25, 30, 35, 40]\n",
    "})\n",
    "\n",
    "df2 = pd.DataFrame({\n",
    "    'ID': [1, 2, 3, 5],\n",
    "    'Name': ['Alice', 'Bob', 'Charles', 'Eve'],\n",
    "    'Age': [25, 31, 35, 45]\n",
    "})\n"
   ]
  },
  {
   "cell_type": "code",
   "execution_count": 90,
   "id": "ba390590-f5d5-4f5b-ba97-5343e055f051",
   "metadata": {},
   "outputs": [
    {
     "name": "stdout",
     "output_type": "stream",
     "text": [
      "    ID           Name            Age      \n",
      "  self other     self    other  self other\n",
      "1  NaN   NaN      NaN      NaN  30.0  31.0\n",
      "2  NaN   NaN  Charlie  Charles   NaN   NaN\n",
      "3  4.0   5.0    David      Eve  40.0  45.0\n"
     ]
    }
   ],
   "source": [
    "print(df1.compare(df2)) # compare the values bettween 2 dfs"
   ]
  },
  {
   "cell_type": "code",
   "execution_count": 91,
   "id": "08985b1b-5308-4d38-85e8-325caacf81fd",
   "metadata": {},
   "outputs": [
    {
     "name": "stdout",
     "output_type": "stream",
     "text": [
      "DataFrames are equal: False\n"
     ]
    }
   ],
   "source": [
    "are_equal = df1.equals(df2)\n",
    "print(\"DataFrames are equal:\", are_equal)\n"
   ]
  },
  {
   "cell_type": "markdown",
   "id": "cb6b46cd-8e3e-4554-80f4-b34bd19a348e",
   "metadata": {},
   "source": [
    "## END "
   ]
  }
 ],
 "metadata": {
  "kernelspec": {
   "display_name": "Python 3 (ipykernel)",
   "language": "python",
   "name": "python3"
  },
  "language_info": {
   "codemirror_mode": {
    "name": "ipython",
    "version": 3
   },
   "file_extension": ".py",
   "mimetype": "text/x-python",
   "name": "python",
   "nbconvert_exporter": "python",
   "pygments_lexer": "ipython3",
   "version": "3.11.3"
  }
 },
 "nbformat": 4,
 "nbformat_minor": 5
}
